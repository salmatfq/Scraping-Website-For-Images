{
 "cells": [
  {
   "cell_type": "markdown",
   "metadata": {},
   "source": [
    "# Scraping Real Estate Listings for Dataset Building"
   ]
  },
  {
   "cell_type": "markdown",
   "metadata": {},
   "source": [
    "### Importing the needed libraries"
   ]
  },
  {
   "cell_type": "code",
   "execution_count": 1,
   "metadata": {},
   "outputs": [],
   "source": [
    "#For pulling data out of HTML and XML files\n",
    "from bs4 import BeautifulSoup\n",
    "\n",
    "import urllib.request\n",
    "from random import randint\n",
    "from time import sleep\n",
    "from requests import get\n",
    "import pandas as pd\n",
    "import itertools\n",
    "import matplotlib.pyplot as plt\n",
    "import seaborn as sns\n",
    "sns.set()"
   ]
  },
  {
   "cell_type": "markdown",
   "metadata": {},
   "source": [
    "### Setting up the stage"
   ]
  },
  {
   "cell_type": "markdown",
   "metadata": {},
   "source": [
    "We need the following to make it seem like we are sending queries from an actual web browser"
   ]
  },
  {
   "cell_type": "code",
   "execution_count": 2,
   "metadata": {},
   "outputs": [],
   "source": [
    "#Needed to mimic queries coming from an actual browser\n",
    "headers = ({'User-Agent':\n",
    "            'Mozilla/5.0 (Windows NT 6.1) AppleWebKit/537.36 (KHTML, like Gecko) Chrome/77.0.3865.90 Safari/537.36'})"
   ]
  },
  {
   "cell_type": "markdown",
   "metadata": {},
   "source": [
    "After looking into the website, I found that looking into the listings from Chicago, Illinois, and those from Portland, Oregon fit more what I am looking for (pictures of the facade of the buildings at the forefront, types of buildings, etc.) so I will start with these two. "
   ]
  },
  {
   "cell_type": "code",
   "execution_count": null,
   "metadata": {},
   "outputs": [],
   "source": [
    "page = 1\n",
    "bigCities = [\"https://www.zillow.com/homes/Portland-OR_rb/\", \"https://www.zillow.com/homes/Chicago-IL_rb/\"]\n",
    "print(bigCities)\n",
    "for city in bigCities:\n",
    "    response = get(city, headers=headers)\n",
    "    print(response)"
   ]
  },
  {
   "cell_type": "markdown",
   "metadata": {},
   "source": [
    "### Getting the data we want"
   ]
  },
  {
   "cell_type": "code",
   "execution_count": 87,
   "metadata": {},
   "outputs": [
    {
     "name": "stdout",
     "output_type": "stream",
     "text": [
      "1\n",
      "https://www.zillow.com/homes/Portland-OR_rb/1_p\n",
      "https://www.zillow.com/homes/Chicago-IL_rb/1_p\n",
      "2\n",
      "https://www.zillow.com/homes/Portland-OR_rb/2_p\n",
      "https://www.zillow.com/homes/Chicago-IL_rb/2_p\n",
      "3\n",
      "https://www.zillow.com/homes/Portland-OR_rb/3_p\n",
      "https://www.zillow.com/homes/Chicago-IL_rb/3_p\n",
      "4\n",
      "https://www.zillow.com/homes/Portland-OR_rb/4_p\n",
      "https://www.zillow.com/homes/Chicago-IL_rb/4_p\n",
      "5\n",
      "https://www.zillow.com/homes/Portland-OR_rb/5_p\n",
      "https://www.zillow.com/homes/Chicago-IL_rb/5_p\n",
      "6\n",
      "https://www.zillow.com/homes/Portland-OR_rb/6_p\n",
      "https://www.zillow.com/homes/Chicago-IL_rb/6_p\n",
      "7\n",
      "https://www.zillow.com/homes/Portland-OR_rb/7_p\n",
      "https://www.zillow.com/homes/Chicago-IL_rb/7_p\n",
      "8\n",
      "https://www.zillow.com/homes/Portland-OR_rb/8_p\n",
      "https://www.zillow.com/homes/Chicago-IL_rb/8_p\n",
      "9\n",
      "https://www.zillow.com/homes/Portland-OR_rb/9_p\n",
      "https://www.zillow.com/homes/Chicago-IL_rb/9_p\n",
      "10\n",
      "https://www.zillow.com/homes/Portland-OR_rb/10_p\n",
      "https://www.zillow.com/homes/Chicago-IL_rb/10_p\n",
      "11\n",
      "https://www.zillow.com/homes/Portland-OR_rb/11_p\n",
      "https://www.zillow.com/homes/Chicago-IL_rb/11_p\n",
      "12\n",
      "https://www.zillow.com/homes/Portland-OR_rb/12_p\n",
      "https://www.zillow.com/homes/Chicago-IL_rb/12_p\n",
      "13\n",
      "https://www.zillow.com/homes/Portland-OR_rb/13_p\n",
      "https://www.zillow.com/homes/Chicago-IL_rb/13_p\n",
      "14\n",
      "https://www.zillow.com/homes/Portland-OR_rb/14_p\n",
      "https://www.zillow.com/homes/Chicago-IL_rb/14_p\n",
      "15\n",
      "https://www.zillow.com/homes/Portland-OR_rb/15_p\n",
      "https://www.zillow.com/homes/Chicago-IL_rb/15_p\n",
      "16\n",
      "https://www.zillow.com/homes/Portland-OR_rb/16_p\n",
      "https://www.zillow.com/homes/Chicago-IL_rb/16_p\n",
      "17\n",
      "https://www.zillow.com/homes/Portland-OR_rb/17_p\n",
      "https://www.zillow.com/homes/Chicago-IL_rb/17_p\n",
      "18\n",
      "https://www.zillow.com/homes/Portland-OR_rb/18_p\n",
      "https://www.zillow.com/homes/Chicago-IL_rb/18_p\n",
      "19\n",
      "https://www.zillow.com/homes/Portland-OR_rb/19_p\n",
      "https://www.zillow.com/homes/Chicago-IL_rb/19_p\n",
      "20\n",
      "https://www.zillow.com/homes/Portland-OR_rb/20_p\n",
      "https://www.zillow.com/homes/Chicago-IL_rb/20_p\n",
      "21\n",
      "https://www.zillow.com/homes/Portland-OR_rb/21_p\n",
      "https://www.zillow.com/homes/Chicago-IL_rb/21_p\n",
      "22\n",
      "https://www.zillow.com/homes/Portland-OR_rb/22_p\n",
      "https://www.zillow.com/homes/Chicago-IL_rb/22_p\n",
      "23\n",
      "https://www.zillow.com/homes/Portland-OR_rb/23_p\n",
      "https://www.zillow.com/homes/Chicago-IL_rb/23_p\n",
      "24\n",
      "https://www.zillow.com/homes/Portland-OR_rb/24_p\n",
      "https://www.zillow.com/homes/Chicago-IL_rb/24_p\n",
      "You scraped 24 pages.\n"
     ]
    }
   ],
   "source": [
    "#Empty lists to store the relevant info\n",
    "image_links = []\n",
    "years_built = []\n",
    "locations = []\n",
    "listing_titles = []\n",
    "listing_types = []\n",
    "n_pages = 0\n",
    "\n",
    "for page in range(1,21):\n",
    "    bigCities = [\"https://www.zillow.com/homes/Portland-OR_rb/\"+str(page)+\"_p\", \"https://www.zillow.com/homes/Chicago-IL_rb/\"+str(page)+\"_p\"]\n",
    "    n_pages += 1\n",
    "    print(page)\n",
    "    for city in bigCities:\n",
    "        print(city)\n",
    "        response = get(city, headers=headers)\n",
    "        html_soup = BeautifulSoup(response.text, 'html.parser')\n",
    "        listings = html_soup.find_all('article', class_=\"list-card list-card-short list-card_not-saved\")\n",
    "        \n",
    "        #Now we loop through each listing to get the data\n",
    "        for listing in listings: \n",
    "\n",
    "            #We store what we find in an images list object which actually only has one image (due to the structure of the tags tree)\n",
    "            images = listing.find_all('div', class_=\"list-card-top\")\n",
    "            images = images[0].find_all('img')\n",
    "            \n",
    "            for image in images:\n",
    "                if(\"jpg\" in image['src']):\n",
    "                    image_links.append(image['src'])\n",
    "                    filename = image['src'].split('/')[-1]\n",
    "                    filename = filename + \".jpg\"\n",
    "                    path = \"./Buildings/\"+filename\n",
    "                    urllib.request.urlretrieve(image['src'], path)\n",
    "                    listing_titles.append(image['alt'])\n",
    "                    \n",
    "                    #Getting the type of the listing\n",
    "                    types = listing.find_all('div', class_=\"list-card-type\")\n",
    "                    listing_types.append(types[0].text)\n",
    "                    \n",
    "                    #Getting the location\n",
    "                    addresses = listing.find_all('h3', class_=\"list-card-addr\")\n",
    "                    locations.append(addresses[0].text)\n",
    "            \n",
    "    #Sleeping to mimic a human search and keep the scraping within polite and acceptable limits \n",
    "    sleep(randint(1,2))\n",
    "    \n",
    "\n",
    "print('You scraped {} pages.'.format(n_pages))\n"
   ]
  },
  {
   "cell_type": "code",
   "execution_count": 90,
   "metadata": {},
   "outputs": [],
   "source": [
    "cols = ['Title', 'Location', 'Type', 'Image']\n",
    "\n",
    "mydata = pd.DataFrame({'Title': listing_titles,\n",
    "                           'Location': locations,\n",
    "                           'Type': listing_types,\n",
    "                           'Image': image_links})[cols]\n",
    "\n",
    "mydata.to_excel('Chicago_Portland_raw.xls')"
   ]
  },
  {
   "cell_type": "markdown",
   "metadata": {},
   "source": [
    "### Helpful links"
   ]
  },
  {
   "cell_type": "markdown",
   "metadata": {},
   "source": [
    "https://towardsdatascience.com/looking-for-a-house-build-a-web-scraper-to-help-you-5ab25badc83e\n",
    "https://www.crummy.com/software/BeautifulSoup/bs4/doc/\n"
   ]
  }
 ],
 "metadata": {
  "kernelspec": {
   "display_name": "Python 3",
   "language": "python",
   "name": "python3"
  },
  "language_info": {
   "codemirror_mode": {
    "name": "ipython",
    "version": 3
   },
   "file_extension": ".py",
   "mimetype": "text/x-python",
   "name": "python",
   "nbconvert_exporter": "python",
   "pygments_lexer": "ipython3",
   "version": "3.7.1"
  }
 },
 "nbformat": 4,
 "nbformat_minor": 2
}
